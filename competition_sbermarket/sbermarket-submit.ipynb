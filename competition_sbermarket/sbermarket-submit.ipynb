{
 "cells": [
  {
   "cell_type": "code",
   "execution_count": 1,
   "id": "2e57e1f6",
   "metadata": {
    "_cell_guid": "b1076dfc-b9ad-4769-8c92-a6c4dae69d19",
    "_uuid": "8f2839f25d086af736a60e9eeb907d3b93b6e0e5",
    "execution": {
     "iopub.execute_input": "2022-02-04T00:49:02.740578Z",
     "iopub.status.busy": "2022-02-04T00:49:02.739725Z",
     "iopub.status.idle": "2022-02-04T00:49:03.627327Z",
     "shell.execute_reply": "2022-02-04T00:49:03.627741Z",
     "shell.execute_reply.started": "2022-02-04T00:21:24.380671Z"
    },
    "papermill": {
     "duration": 0.923508,
     "end_time": "2022-02-04T00:49:03.628076",
     "exception": false,
     "start_time": "2022-02-04T00:49:02.704568",
     "status": "completed"
    },
    "tags": []
   },
   "outputs": [],
   "source": [
    "import matplotlib.pyplot as plt                      \n",
    "import seaborn as sns         \n",
    "import pandas as pd  \n",
    "import numpy as np \n",
    "np.random.seed(0)"
   ]
  },
  {
   "cell_type": "markdown",
   "id": "9395735b",
   "metadata": {
    "papermill": {
     "duration": 0.029839,
     "end_time": "2022-02-04T00:49:03.690812",
     "exception": false,
     "start_time": "2022-02-04T00:49:03.660973",
     "status": "completed"
    },
    "tags": []
   },
   "source": [
    "# 1.Подготовка данных"
   ]
  },
  {
   "cell_type": "markdown",
   "id": "707327a1",
   "metadata": {
    "papermill": {
     "duration": 0.037204,
     "end_time": "2022-02-04T00:49:03.758423",
     "exception": false,
     "start_time": "2022-02-04T00:49:03.721219",
     "status": "completed"
    },
    "tags": []
   },
   "source": [
    "### Данные о покупках пользователей:"
   ]
  },
  {
   "cell_type": "code",
   "execution_count": 2,
   "id": "df597b59",
   "metadata": {
    "execution": {
     "iopub.execute_input": "2022-02-04T00:49:03.825811Z",
     "iopub.status.busy": "2022-02-04T00:49:03.825305Z",
     "iopub.status.idle": "2022-02-04T00:49:06.730945Z",
     "shell.execute_reply": "2022-02-04T00:49:06.731312Z",
     "shell.execute_reply.started": "2022-02-04T00:21:25.018982Z"
    },
    "papermill": {
     "duration": 2.941121,
     "end_time": "2022-02-04T00:49:06.731455",
     "exception": false,
     "start_time": "2022-02-04T00:49:03.790334",
     "status": "completed"
    },
    "tags": []
   },
   "outputs": [
    {
     "data": {
      "text/html": [
       "<div>\n",
       "<style scoped>\n",
       "    .dataframe tbody tr th:only-of-type {\n",
       "        vertical-align: middle;\n",
       "    }\n",
       "\n",
       "    .dataframe tbody tr th {\n",
       "        vertical-align: top;\n",
       "    }\n",
       "\n",
       "    .dataframe thead th {\n",
       "        text-align: right;\n",
       "    }\n",
       "</style>\n",
       "<table border=\"1\" class=\"dataframe\">\n",
       "  <thead>\n",
       "    <tr style=\"text-align: right;\">\n",
       "      <th></th>\n",
       "      <th>user_id</th>\n",
       "      <th>cart</th>\n",
       "      <th>target</th>\n",
       "      <th>count</th>\n",
       "    </tr>\n",
       "  </thead>\n",
       "  <tbody>\n",
       "    <tr>\n",
       "      <th>0</th>\n",
       "      <td>2</td>\n",
       "      <td>399</td>\n",
       "      <td>0</td>\n",
       "      <td>1</td>\n",
       "    </tr>\n",
       "    <tr>\n",
       "      <th>1</th>\n",
       "      <td>2</td>\n",
       "      <td>14</td>\n",
       "      <td>0</td>\n",
       "      <td>1</td>\n",
       "    </tr>\n",
       "    <tr>\n",
       "      <th>2</th>\n",
       "      <td>2</td>\n",
       "      <td>198</td>\n",
       "      <td>0</td>\n",
       "      <td>1</td>\n",
       "    </tr>\n",
       "    <tr>\n",
       "      <th>3</th>\n",
       "      <td>2</td>\n",
       "      <td>88</td>\n",
       "      <td>0</td>\n",
       "      <td>1</td>\n",
       "    </tr>\n",
       "    <tr>\n",
       "      <th>4</th>\n",
       "      <td>2</td>\n",
       "      <td>157</td>\n",
       "      <td>0</td>\n",
       "      <td>1</td>\n",
       "    </tr>\n",
       "  </tbody>\n",
       "</table>\n",
       "</div>"
      ],
      "text/plain": [
       "   user_id  cart  target  count\n",
       "0        2   399       0      1\n",
       "1        2    14       0      1\n",
       "2        2   198       0      1\n",
       "3        2    88       0      1\n",
       "4        2   157       0      1"
      ]
     },
     "execution_count": 2,
     "metadata": {},
     "output_type": "execute_result"
    }
   ],
   "source": [
    "users_data = pd.read_csv('../input/sbermarket-competition/train.csv')\n",
    "users_data.head()\n",
    "\n",
    "users_data['target'] = 0\n",
    "users_data['count'] = 1\n",
    "users_data = users_data.drop(['order_completed_at'], axis = 1)\n",
    "users_data.head()"
   ]
  },
  {
   "cell_type": "markdown",
   "id": "5c4e0986",
   "metadata": {
    "papermill": {
     "duration": 0.030795,
     "end_time": "2022-02-04T00:49:06.794686",
     "exception": false,
     "start_time": "2022-02-04T00:49:06.763891",
     "status": "completed"
    },
    "tags": []
   },
   "source": [
    "### Пример решения:"
   ]
  },
  {
   "cell_type": "code",
   "execution_count": 3,
   "id": "975f3db8",
   "metadata": {
    "execution": {
     "iopub.execute_input": "2022-02-04T00:49:06.860001Z",
     "iopub.status.busy": "2022-02-04T00:49:06.859523Z",
     "iopub.status.idle": "2022-02-04T00:49:07.430490Z",
     "shell.execute_reply": "2022-02-04T00:49:07.431100Z",
     "shell.execute_reply.started": "2022-02-04T00:21:26.758302Z"
    },
    "papermill": {
     "duration": 0.605472,
     "end_time": "2022-02-04T00:49:07.431265",
     "exception": false,
     "start_time": "2022-02-04T00:49:06.825793",
     "status": "completed"
    },
    "tags": []
   },
   "outputs": [
    {
     "data": {
      "text/html": [
       "<div>\n",
       "<style scoped>\n",
       "    .dataframe tbody tr th:only-of-type {\n",
       "        vertical-align: middle;\n",
       "    }\n",
       "\n",
       "    .dataframe tbody tr th {\n",
       "        vertical-align: top;\n",
       "    }\n",
       "\n",
       "    .dataframe thead th {\n",
       "        text-align: right;\n",
       "    }\n",
       "</style>\n",
       "<table border=\"1\" class=\"dataframe\">\n",
       "  <thead>\n",
       "    <tr style=\"text-align: right;\">\n",
       "      <th></th>\n",
       "      <th>id</th>\n",
       "      <th>target</th>\n",
       "    </tr>\n",
       "  </thead>\n",
       "  <tbody>\n",
       "    <tr>\n",
       "      <th>0</th>\n",
       "      <td>0;133</td>\n",
       "      <td>0</td>\n",
       "    </tr>\n",
       "    <tr>\n",
       "      <th>1</th>\n",
       "      <td>0;5</td>\n",
       "      <td>1</td>\n",
       "    </tr>\n",
       "    <tr>\n",
       "      <th>2</th>\n",
       "      <td>0;10</td>\n",
       "      <td>0</td>\n",
       "    </tr>\n",
       "    <tr>\n",
       "      <th>3</th>\n",
       "      <td>0;396</td>\n",
       "      <td>1</td>\n",
       "    </tr>\n",
       "    <tr>\n",
       "      <th>4</th>\n",
       "      <td>0;14</td>\n",
       "      <td>0</td>\n",
       "    </tr>\n",
       "  </tbody>\n",
       "</table>\n",
       "</div>"
      ],
      "text/plain": [
       "      id  target\n",
       "0  0;133       0\n",
       "1    0;5       1\n",
       "2   0;10       0\n",
       "3  0;396       1\n",
       "4   0;14       0"
      ]
     },
     "execution_count": 3,
     "metadata": {},
     "output_type": "execute_result"
    }
   ],
   "source": [
    "sample_data = pd.read_csv('../input/sbermarket-competition/sample_submission.csv')\n",
    "sample_data.head()"
   ]
  },
  {
   "cell_type": "code",
   "execution_count": 4,
   "id": "3fbd3c5f",
   "metadata": {
    "execution": {
     "iopub.execute_input": "2022-02-04T00:49:07.559531Z",
     "iopub.status.busy": "2022-02-04T00:49:07.558711Z",
     "iopub.status.idle": "2022-02-04T00:49:10.408554Z",
     "shell.execute_reply": "2022-02-04T00:49:10.409039Z",
     "shell.execute_reply.started": "2022-02-04T00:21:27.393851Z"
    },
    "papermill": {
     "duration": 2.92956,
     "end_time": "2022-02-04T00:49:10.409205",
     "exception": false,
     "start_time": "2022-02-04T00:49:07.479645",
     "status": "completed"
    },
    "tags": []
   },
   "outputs": [
    {
     "data": {
      "text/html": [
       "<div>\n",
       "<style scoped>\n",
       "    .dataframe tbody tr th:only-of-type {\n",
       "        vertical-align: middle;\n",
       "    }\n",
       "\n",
       "    .dataframe tbody tr th {\n",
       "        vertical-align: top;\n",
       "    }\n",
       "\n",
       "    .dataframe thead th {\n",
       "        text-align: right;\n",
       "    }\n",
       "</style>\n",
       "<table border=\"1\" class=\"dataframe\">\n",
       "  <thead>\n",
       "    <tr style=\"text-align: right;\">\n",
       "      <th></th>\n",
       "      <th>id</th>\n",
       "      <th>target</th>\n",
       "      <th>user_id</th>\n",
       "      <th>cart</th>\n",
       "    </tr>\n",
       "  </thead>\n",
       "  <tbody>\n",
       "    <tr>\n",
       "      <th>0</th>\n",
       "      <td>0;133</td>\n",
       "      <td>0</td>\n",
       "      <td>0</td>\n",
       "      <td>133</td>\n",
       "    </tr>\n",
       "    <tr>\n",
       "      <th>1</th>\n",
       "      <td>0;5</td>\n",
       "      <td>1</td>\n",
       "      <td>0</td>\n",
       "      <td>5</td>\n",
       "    </tr>\n",
       "    <tr>\n",
       "      <th>2</th>\n",
       "      <td>0;10</td>\n",
       "      <td>0</td>\n",
       "      <td>0</td>\n",
       "      <td>10</td>\n",
       "    </tr>\n",
       "    <tr>\n",
       "      <th>3</th>\n",
       "      <td>0;396</td>\n",
       "      <td>1</td>\n",
       "      <td>0</td>\n",
       "      <td>396</td>\n",
       "    </tr>\n",
       "    <tr>\n",
       "      <th>4</th>\n",
       "      <td>0;14</td>\n",
       "      <td>0</td>\n",
       "      <td>0</td>\n",
       "      <td>14</td>\n",
       "    </tr>\n",
       "  </tbody>\n",
       "</table>\n",
       "</div>"
      ],
      "text/plain": [
       "      id  target  user_id cart\n",
       "0  0;133       0        0  133\n",
       "1    0;5       1        0    5\n",
       "2   0;10       0        0   10\n",
       "3  0;396       1        0  396\n",
       "4   0;14       0        0   14"
      ]
     },
     "execution_count": 4,
     "metadata": {},
     "output_type": "execute_result"
    }
   ],
   "source": [
    "sample_data[['user_id', 'cart']] = sample_data['id'].str.split(';', expand = True)\n",
    "sample_data['user_id'] = sample_data['user_id'].astype('int64')\n",
    "sample_data.head()"
   ]
  },
  {
   "cell_type": "markdown",
   "id": "e95f616d",
   "metadata": {
    "papermill": {
     "duration": 0.048334,
     "end_time": "2022-02-04T00:49:10.506170",
     "exception": false,
     "start_time": "2022-02-04T00:49:10.457836",
     "status": "completed"
    },
    "tags": []
   },
   "source": [
    "###  Если юзер купил товар < 2 раз, то target = 0"
   ]
  },
  {
   "cell_type": "code",
   "execution_count": 5,
   "id": "9d2373ad",
   "metadata": {
    "execution": {
     "iopub.execute_input": "2022-02-04T00:49:10.608750Z",
     "iopub.status.busy": "2022-02-04T00:49:10.608094Z",
     "iopub.status.idle": "2022-02-04T00:49:12.017910Z",
     "shell.execute_reply": "2022-02-04T00:49:12.017474Z",
     "shell.execute_reply.started": "2022-02-04T00:21:30.440164Z"
    },
    "papermill": {
     "duration": 1.463657,
     "end_time": "2022-02-04T00:49:12.018028",
     "exception": false,
     "start_time": "2022-02-04T00:49:10.554371",
     "status": "completed"
    },
    "tags": []
   },
   "outputs": [
    {
     "data": {
      "text/html": [
       "<div>\n",
       "<style scoped>\n",
       "    .dataframe tbody tr th:only-of-type {\n",
       "        vertical-align: middle;\n",
       "    }\n",
       "\n",
       "    .dataframe tbody tr th {\n",
       "        vertical-align: top;\n",
       "    }\n",
       "\n",
       "    .dataframe thead th {\n",
       "        text-align: right;\n",
       "    }\n",
       "</style>\n",
       "<table border=\"1\" class=\"dataframe\">\n",
       "  <thead>\n",
       "    <tr style=\"text-align: right;\">\n",
       "      <th></th>\n",
       "      <th>user_id</th>\n",
       "      <th>cart</th>\n",
       "      <th>target</th>\n",
       "      <th>count</th>\n",
       "    </tr>\n",
       "  </thead>\n",
       "  <tbody>\n",
       "    <tr>\n",
       "      <th>0</th>\n",
       "      <td>2</td>\n",
       "      <td>399</td>\n",
       "      <td>0</td>\n",
       "      <td>1</td>\n",
       "    </tr>\n",
       "    <tr>\n",
       "      <th>1</th>\n",
       "      <td>2</td>\n",
       "      <td>14</td>\n",
       "      <td>0</td>\n",
       "      <td>1</td>\n",
       "    </tr>\n",
       "    <tr>\n",
       "      <th>2</th>\n",
       "      <td>2</td>\n",
       "      <td>198</td>\n",
       "      <td>1</td>\n",
       "      <td>1</td>\n",
       "    </tr>\n",
       "    <tr>\n",
       "      <th>3</th>\n",
       "      <td>2</td>\n",
       "      <td>88</td>\n",
       "      <td>1</td>\n",
       "      <td>1</td>\n",
       "    </tr>\n",
       "    <tr>\n",
       "      <th>4</th>\n",
       "      <td>2</td>\n",
       "      <td>157</td>\n",
       "      <td>1</td>\n",
       "      <td>1</td>\n",
       "    </tr>\n",
       "  </tbody>\n",
       "</table>\n",
       "</div>"
      ],
      "text/plain": [
       "   user_id  cart  target  count\n",
       "0        2   399       0      1\n",
       "1        2    14       0      1\n",
       "2        2   198       1      1\n",
       "3        2    88       1      1\n",
       "4        2   157       1      1"
      ]
     },
     "execution_count": 5,
     "metadata": {},
     "output_type": "execute_result"
    }
   ],
   "source": [
    "users_data['target'] = users_data.duplicated(keep=False).apply(lambda x: 1 if x == True else 0)\n",
    "users_data.head()"
   ]
  },
  {
   "cell_type": "markdown",
   "id": "68fc1199",
   "metadata": {
    "papermill": {
     "duration": 0.032113,
     "end_time": "2022-02-04T00:49:12.082687",
     "exception": false,
     "start_time": "2022-02-04T00:49:12.050574",
     "status": "completed"
    },
    "tags": []
   },
   "source": [
    "### Оставим только данные с user_id из sample_data"
   ]
  },
  {
   "cell_type": "code",
   "execution_count": 6,
   "id": "f1b23f4b",
   "metadata": {
    "execution": {
     "iopub.execute_input": "2022-02-04T00:49:12.152712Z",
     "iopub.status.busy": "2022-02-04T00:49:12.151904Z",
     "iopub.status.idle": "2022-02-04T00:49:12.246382Z",
     "shell.execute_reply": "2022-02-04T00:49:12.245778Z",
     "shell.execute_reply.started": "2022-02-04T00:21:32.942064Z"
    },
    "papermill": {
     "duration": 0.131932,
     "end_time": "2022-02-04T00:49:12.246505",
     "exception": false,
     "start_time": "2022-02-04T00:49:12.114573",
     "status": "completed"
    },
    "tags": []
   },
   "outputs": [
    {
     "data": {
      "text/html": [
       "<div>\n",
       "<style scoped>\n",
       "    .dataframe tbody tr th:only-of-type {\n",
       "        vertical-align: middle;\n",
       "    }\n",
       "\n",
       "    .dataframe tbody tr th {\n",
       "        vertical-align: top;\n",
       "    }\n",
       "\n",
       "    .dataframe thead th {\n",
       "        text-align: right;\n",
       "    }\n",
       "</style>\n",
       "<table border=\"1\" class=\"dataframe\">\n",
       "  <thead>\n",
       "    <tr style=\"text-align: right;\">\n",
       "      <th></th>\n",
       "      <th>user_id</th>\n",
       "      <th>cart</th>\n",
       "      <th>target</th>\n",
       "      <th>count</th>\n",
       "    </tr>\n",
       "  </thead>\n",
       "  <tbody>\n",
       "    <tr>\n",
       "      <th>16</th>\n",
       "      <td>3</td>\n",
       "      <td>399</td>\n",
       "      <td>1</td>\n",
       "      <td>1</td>\n",
       "    </tr>\n",
       "    <tr>\n",
       "      <th>17</th>\n",
       "      <td>3</td>\n",
       "      <td>399</td>\n",
       "      <td>1</td>\n",
       "      <td>1</td>\n",
       "    </tr>\n",
       "    <tr>\n",
       "      <th>18</th>\n",
       "      <td>4</td>\n",
       "      <td>54</td>\n",
       "      <td>1</td>\n",
       "      <td>1</td>\n",
       "    </tr>\n",
       "    <tr>\n",
       "      <th>19</th>\n",
       "      <td>4</td>\n",
       "      <td>55</td>\n",
       "      <td>0</td>\n",
       "      <td>1</td>\n",
       "    </tr>\n",
       "    <tr>\n",
       "      <th>20</th>\n",
       "      <td>5</td>\n",
       "      <td>409</td>\n",
       "      <td>1</td>\n",
       "      <td>1</td>\n",
       "    </tr>\n",
       "  </tbody>\n",
       "</table>\n",
       "</div>"
      ],
      "text/plain": [
       "    user_id  cart  target  count\n",
       "16        3   399       1      1\n",
       "17        3   399       1      1\n",
       "18        4    54       1      1\n",
       "19        4    55       0      1\n",
       "20        5   409       1      1"
      ]
     },
     "execution_count": 6,
     "metadata": {},
     "output_type": "execute_result"
    }
   ],
   "source": [
    "train = users_data[users_data['user_id'].isin(sample_data.user_id)]\n",
    "train.head()"
   ]
  },
  {
   "cell_type": "markdown",
   "id": "76f40206",
   "metadata": {
    "papermill": {
     "duration": 0.049351,
     "end_time": "2022-02-04T00:49:12.345378",
     "exception": false,
     "start_time": "2022-02-04T00:49:12.296027",
     "status": "completed"
    },
    "tags": []
   },
   "source": [
    "### Разделим train на train_split и test_split"
   ]
  },
  {
   "cell_type": "code",
   "execution_count": 7,
   "id": "ff188fcc",
   "metadata": {
    "execution": {
     "iopub.execute_input": "2022-02-04T00:49:12.452030Z",
     "iopub.status.busy": "2022-02-04T00:49:12.451416Z",
     "iopub.status.idle": "2022-02-04T00:49:12.453254Z",
     "shell.execute_reply": "2022-02-04T00:49:12.453833Z",
     "shell.execute_reply.started": "2022-02-04T00:21:33.100820Z"
    },
    "papermill": {
     "duration": 0.058129,
     "end_time": "2022-02-04T00:49:12.453969",
     "exception": false,
     "start_time": "2022-02-04T00:49:12.395840",
     "status": "completed"
    },
    "tags": []
   },
   "outputs": [],
   "source": [
    "train_split = train.iloc[: (len(train) - len(train)// 5), :]\n",
    "test_split = train.iloc[(len(train) - len(train)// 5):, :]"
   ]
  },
  {
   "cell_type": "markdown",
   "id": "96a07f14",
   "metadata": {
    "papermill": {
     "duration": 0.04925,
     "end_time": "2022-02-04T00:49:12.553042",
     "exception": false,
     "start_time": "2022-02-04T00:49:12.503792",
     "status": "completed"
    },
    "tags": []
   },
   "source": [
    "### Списки с уникальными категориями"
   ]
  },
  {
   "cell_type": "code",
   "execution_count": 8,
   "id": "10cb9aad",
   "metadata": {
    "execution": {
     "iopub.execute_input": "2022-02-04T00:49:12.656295Z",
     "iopub.status.busy": "2022-02-04T00:49:12.655703Z",
     "iopub.status.idle": "2022-02-04T00:49:13.905767Z",
     "shell.execute_reply": "2022-02-04T00:49:13.905191Z",
     "shell.execute_reply.started": "2022-02-04T00:21:33.108766Z"
    },
    "papermill": {
     "duration": 1.303239,
     "end_time": "2022-02-04T00:49:13.905907",
     "exception": false,
     "start_time": "2022-02-04T00:49:12.602668",
     "status": "completed"
    },
    "tags": []
   },
   "outputs": [],
   "source": [
    "users_categories = train.groupby(['user_id']).cart.unique()\n",
    "test_categories = test_split.groupby(['user_id']).cart.unique()"
   ]
  },
  {
   "cell_type": "markdown",
   "id": "ac1f1cad",
   "metadata": {
    "papermill": {
     "duration": 0.049526,
     "end_time": "2022-02-04T00:49:14.006057",
     "exception": false,
     "start_time": "2022-02-04T00:49:13.956531",
     "status": "completed"
    },
    "tags": []
   },
   "source": [
    "# 2. EDA"
   ]
  },
  {
   "cell_type": "markdown",
   "id": "813ba6c8",
   "metadata": {
    "papermill": {
     "duration": 0.049609,
     "end_time": "2022-02-04T00:49:14.105367",
     "exception": false,
     "start_time": "2022-02-04T00:49:14.055758",
     "status": "completed"
    },
    "tags": []
   },
   "source": [
    "### Популярность: сколько раз был заказан каждый товар?"
   ]
  },
  {
   "cell_type": "code",
   "execution_count": 9,
   "id": "242c17bb",
   "metadata": {
    "execution": {
     "iopub.execute_input": "2022-02-04T00:49:14.284720Z",
     "iopub.status.busy": "2022-02-04T00:49:14.279596Z",
     "iopub.status.idle": "2022-02-04T00:49:16.013675Z",
     "shell.execute_reply": "2022-02-04T00:49:16.013133Z",
     "shell.execute_reply.started": "2022-02-04T00:21:34.642898Z"
    },
    "papermill": {
     "duration": 1.858333,
     "end_time": "2022-02-04T00:49:16.013804",
     "exception": false,
     "start_time": "2022-02-04T00:49:14.155471",
     "status": "completed"
    },
    "tags": []
   },
   "outputs": [
    {
     "data": {
      "image/png": "[encoded data removed]",
      "text/plain": [
       "<Figure size 360x360 with 1 Axes>"
      ]
     },
     "metadata": {
      "needs_background": "light"
     },
     "output_type": "display_data"
    }
   ],
   "source": [
    "sns.displot(train['cart'])\n",
    "plt.show()"
   ]
  },
  {
   "cell_type": "code",
   "execution_count": 10,
   "id": "b806bd32",
   "metadata": {
    "execution": {
     "iopub.execute_input": "2022-02-04T00:49:16.117575Z",
     "iopub.status.busy": "2022-02-04T00:49:16.116763Z",
     "iopub.status.idle": "2022-02-04T00:49:16.159308Z",
     "shell.execute_reply": "2022-02-04T00:49:16.159913Z",
     "shell.execute_reply.started": "2022-02-04T00:21:37.201279Z"
    },
    "papermill": {
     "duration": 0.095161,
     "end_time": "2022-02-04T00:49:16.160065",
     "exception": false,
     "start_time": "2022-02-04T00:49:16.064904",
     "status": "completed"
    },
    "tags": []
   },
   "outputs": [
    {
     "data": {
      "text/html": [
       "<div>\n",
       "<style scoped>\n",
       "    .dataframe tbody tr th:only-of-type {\n",
       "        vertical-align: middle;\n",
       "    }\n",
       "\n",
       "    .dataframe tbody tr th {\n",
       "        vertical-align: top;\n",
       "    }\n",
       "\n",
       "    .dataframe thead th {\n",
       "        text-align: right;\n",
       "    }\n",
       "</style>\n",
       "<table border=\"1\" class=\"dataframe\">\n",
       "  <thead>\n",
       "    <tr style=\"text-align: right;\">\n",
       "      <th></th>\n",
       "      <th>count</th>\n",
       "    </tr>\n",
       "    <tr>\n",
       "      <th>cart</th>\n",
       "      <th></th>\n",
       "    </tr>\n",
       "  </thead>\n",
       "  <tbody>\n",
       "    <tr>\n",
       "      <th>57</th>\n",
       "      <td>83722</td>\n",
       "    </tr>\n",
       "    <tr>\n",
       "      <th>14</th>\n",
       "      <td>72214</td>\n",
       "    </tr>\n",
       "    <tr>\n",
       "      <th>61</th>\n",
       "      <td>70478</td>\n",
       "    </tr>\n",
       "    <tr>\n",
       "      <th>398</th>\n",
       "      <td>63190</td>\n",
       "    </tr>\n",
       "    <tr>\n",
       "      <th>23</th>\n",
       "      <td>55231</td>\n",
       "    </tr>\n",
       "  </tbody>\n",
       "</table>\n",
       "</div>"
      ],
      "text/plain": [
       "      count\n",
       "cart       \n",
       "57    83722\n",
       "14    72214\n",
       "61    70478\n",
       "398   63190\n",
       "23    55231"
      ]
     },
     "execution_count": 10,
     "metadata": {},
     "output_type": "execute_result"
    }
   ],
   "source": [
    "top_20 = train.groupby(['cart']).agg({'count' : 'count'}).sort_values\\\n",
    "                                (by = 'count' , ascending = False).head(20)\n",
    "top_20.head()"
   ]
  },
  {
   "cell_type": "code",
   "execution_count": 11,
   "id": "4f007fe0",
   "metadata": {
    "execution": {
     "iopub.execute_input": "2022-02-04T00:49:16.266599Z",
     "iopub.status.busy": "2022-02-04T00:49:16.264311Z",
     "iopub.status.idle": "2022-02-04T00:49:16.269454Z",
     "shell.execute_reply": "2022-02-04T00:49:16.268974Z",
     "shell.execute_reply.started": "2022-02-04T00:21:37.265315Z"
    },
    "papermill": {
     "duration": 0.058416,
     "end_time": "2022-02-04T00:49:16.269571",
     "exception": false,
     "start_time": "2022-02-04T00:49:16.211155",
     "status": "completed"
    },
    "tags": []
   },
   "outputs": [],
   "source": [
    "def optimization(df, column_with_quotation): #поправка на популярность\n",
    "  for i in df.index:\n",
    "    if df.cart[i] in top_20.index:\n",
    "      df.loc[(df.index == i), column_with_quotation] = 1\n",
    "  return df"
   ]
  },
  {
   "cell_type": "markdown",
   "id": "8b197382",
   "metadata": {
    "papermill": {
     "duration": 0.061808,
     "end_time": "2022-02-04T00:49:16.382342",
     "exception": false,
     "start_time": "2022-02-04T00:49:16.320534",
     "status": "completed"
    },
    "tags": []
   },
   "source": [
    "### Как часто категория была куплена отдельными пользователями?"
   ]
  },
  {
   "cell_type": "code",
   "execution_count": 12,
   "id": "c4c49d14",
   "metadata": {
    "execution": {
     "iopub.execute_input": "2022-02-04T00:49:16.492850Z",
     "iopub.status.busy": "2022-02-04T00:49:16.492238Z",
     "iopub.status.idle": "2022-02-04T00:49:16.804133Z",
     "shell.execute_reply": "2022-02-04T00:49:16.803521Z",
     "shell.execute_reply.started": "2022-02-04T00:21:37.272749Z"
    },
    "papermill": {
     "duration": 0.367568,
     "end_time": "2022-02-04T00:49:16.804253",
     "exception": false,
     "start_time": "2022-02-04T00:49:16.436685",
     "status": "completed"
    },
    "tags": []
   },
   "outputs": [
    {
     "data": {
      "text/html": [
       "<div>\n",
       "<style scoped>\n",
       "    .dataframe tbody tr th:only-of-type {\n",
       "        vertical-align: middle;\n",
       "    }\n",
       "\n",
       "    .dataframe tbody tr th {\n",
       "        vertical-align: top;\n",
       "    }\n",
       "\n",
       "    .dataframe thead th {\n",
       "        text-align: right;\n",
       "    }\n",
       "</style>\n",
       "<table border=\"1\" class=\"dataframe\">\n",
       "  <thead>\n",
       "    <tr style=\"text-align: right;\">\n",
       "      <th></th>\n",
       "      <th></th>\n",
       "      <th>count</th>\n",
       "    </tr>\n",
       "    <tr>\n",
       "      <th>user_id</th>\n",
       "      <th>cart</th>\n",
       "      <th></th>\n",
       "    </tr>\n",
       "  </thead>\n",
       "  <tbody>\n",
       "    <tr>\n",
       "      <th rowspan=\"5\" valign=\"top\">91</th>\n",
       "      <th>14</th>\n",
       "      <td>125</td>\n",
       "    </tr>\n",
       "    <tr>\n",
       "      <th>16</th>\n",
       "      <td>124</td>\n",
       "    </tr>\n",
       "    <tr>\n",
       "      <th>171</th>\n",
       "      <td>121</td>\n",
       "    </tr>\n",
       "    <tr>\n",
       "      <th>55</th>\n",
       "      <td>117</td>\n",
       "    </tr>\n",
       "    <tr>\n",
       "      <th>409</th>\n",
       "      <td>115</td>\n",
       "    </tr>\n",
       "  </tbody>\n",
       "</table>\n",
       "</div>"
      ],
      "text/plain": [
       "              count\n",
       "user_id cart       \n",
       "91      14      125\n",
       "        16      124\n",
       "        171     121\n",
       "        55      117\n",
       "        409     115"
      ]
     },
     "execution_count": 12,
     "metadata": {},
     "output_type": "execute_result"
    }
   ],
   "source": [
    "frequency = train_split.groupby(['user_id','cart']).agg({'count' : 'count'})\\\n",
    "                               .sort_values(by = 'count', ascending = False)\n",
    "frequency.head()"
   ]
  },
  {
   "cell_type": "markdown",
   "id": "f9f3671b",
   "metadata": {
    "papermill": {
     "duration": 0.033497,
     "end_time": "2022-02-04T00:49:16.871795",
     "exception": false,
     "start_time": "2022-02-04T00:49:16.838298",
     "status": "completed"
    },
    "tags": []
   },
   "source": [
    "### Рекомендательная система (если вы выбрали этот товар, то вам могут понравиться и следующие: [...])"
   ]
  },
  {
   "cell_type": "code",
   "execution_count": 13,
   "id": "b26c78a6",
   "metadata": {
    "execution": {
     "iopub.execute_input": "2022-02-04T00:49:16.956990Z",
     "iopub.status.busy": "2022-02-04T00:49:16.956320Z",
     "iopub.status.idle": "2022-02-04T00:49:17.560475Z",
     "shell.execute_reply": "2022-02-04T00:49:17.560994Z",
     "shell.execute_reply.started": "2022-02-04T00:21:37.700166Z"
    },
    "papermill": {
     "duration": 0.655868,
     "end_time": "2022-02-04T00:49:17.561146",
     "exception": false,
     "start_time": "2022-02-04T00:49:16.905278",
     "status": "completed"
    },
    "tags": []
   },
   "outputs": [
    {
     "data": {
      "text/html": [
       "<div>\n",
       "<style scoped>\n",
       "    .dataframe tbody tr th:only-of-type {\n",
       "        vertical-align: middle;\n",
       "    }\n",
       "\n",
       "    .dataframe tbody tr th {\n",
       "        vertical-align: top;\n",
       "    }\n",
       "\n",
       "    .dataframe thead th {\n",
       "        text-align: right;\n",
       "    }\n",
       "</style>\n",
       "<table border=\"1\" class=\"dataframe\">\n",
       "  <thead>\n",
       "    <tr style=\"text-align: right;\">\n",
       "      <th>cart</th>\n",
       "      <th>0</th>\n",
       "      <th>1</th>\n",
       "      <th>2</th>\n",
       "      <th>3</th>\n",
       "      <th>4</th>\n",
       "      <th>5</th>\n",
       "      <th>6</th>\n",
       "      <th>7</th>\n",
       "      <th>8</th>\n",
       "      <th>9</th>\n",
       "      <th>...</th>\n",
       "      <th>858</th>\n",
       "      <th>859</th>\n",
       "      <th>863</th>\n",
       "      <th>865</th>\n",
       "      <th>866</th>\n",
       "      <th>867</th>\n",
       "      <th>868</th>\n",
       "      <th>869</th>\n",
       "      <th>873</th>\n",
       "      <th>880</th>\n",
       "    </tr>\n",
       "    <tr>\n",
       "      <th>user_id</th>\n",
       "      <th></th>\n",
       "      <th></th>\n",
       "      <th></th>\n",
       "      <th></th>\n",
       "      <th></th>\n",
       "      <th></th>\n",
       "      <th></th>\n",
       "      <th></th>\n",
       "      <th></th>\n",
       "      <th></th>\n",
       "      <th></th>\n",
       "      <th></th>\n",
       "      <th></th>\n",
       "      <th></th>\n",
       "      <th></th>\n",
       "      <th></th>\n",
       "      <th></th>\n",
       "      <th></th>\n",
       "      <th></th>\n",
       "      <th></th>\n",
       "      <th></th>\n",
       "    </tr>\n",
       "  </thead>\n",
       "  <tbody>\n",
       "    <tr>\n",
       "      <th>0</th>\n",
       "      <td>0.0</td>\n",
       "      <td>0.0</td>\n",
       "      <td>0.0</td>\n",
       "      <td>0.0</td>\n",
       "      <td>0.0</td>\n",
       "      <td>0.0</td>\n",
       "      <td>0.0</td>\n",
       "      <td>0.0</td>\n",
       "      <td>0.0</td>\n",
       "      <td>0.0</td>\n",
       "      <td>...</td>\n",
       "      <td>0.0</td>\n",
       "      <td>0.0</td>\n",
       "      <td>0.0</td>\n",
       "      <td>0.0</td>\n",
       "      <td>0.0</td>\n",
       "      <td>0.0</td>\n",
       "      <td>0.0</td>\n",
       "      <td>0.0</td>\n",
       "      <td>0.0</td>\n",
       "      <td>0.0</td>\n",
       "    </tr>\n",
       "    <tr>\n",
       "      <th>1</th>\n",
       "      <td>0.0</td>\n",
       "      <td>0.0</td>\n",
       "      <td>0.0</td>\n",
       "      <td>0.0</td>\n",
       "      <td>0.0</td>\n",
       "      <td>0.0</td>\n",
       "      <td>0.0</td>\n",
       "      <td>0.0</td>\n",
       "      <td>0.0</td>\n",
       "      <td>0.0</td>\n",
       "      <td>...</td>\n",
       "      <td>0.0</td>\n",
       "      <td>0.0</td>\n",
       "      <td>0.0</td>\n",
       "      <td>0.0</td>\n",
       "      <td>0.0</td>\n",
       "      <td>0.0</td>\n",
       "      <td>0.0</td>\n",
       "      <td>0.0</td>\n",
       "      <td>0.0</td>\n",
       "      <td>0.0</td>\n",
       "    </tr>\n",
       "    <tr>\n",
       "      <th>3</th>\n",
       "      <td>0.0</td>\n",
       "      <td>0.0</td>\n",
       "      <td>0.0</td>\n",
       "      <td>0.0</td>\n",
       "      <td>0.0</td>\n",
       "      <td>0.0</td>\n",
       "      <td>0.0</td>\n",
       "      <td>0.0</td>\n",
       "      <td>0.0</td>\n",
       "      <td>0.0</td>\n",
       "      <td>...</td>\n",
       "      <td>0.0</td>\n",
       "      <td>0.0</td>\n",
       "      <td>0.0</td>\n",
       "      <td>0.0</td>\n",
       "      <td>0.0</td>\n",
       "      <td>0.0</td>\n",
       "      <td>0.0</td>\n",
       "      <td>0.0</td>\n",
       "      <td>0.0</td>\n",
       "      <td>0.0</td>\n",
       "    </tr>\n",
       "  </tbody>\n",
       "</table>\n",
       "<p>3 rows × 812 columns</p>\n",
       "</div>"
      ],
      "text/plain": [
       "cart     0    1    2    3    4    5    6    7    8    9    ...  858  859  863  \\\n",
       "user_id                                                    ...                  \n",
       "0        0.0  0.0  0.0  0.0  0.0  0.0  0.0  0.0  0.0  0.0  ...  0.0  0.0  0.0   \n",
       "1        0.0  0.0  0.0  0.0  0.0  0.0  0.0  0.0  0.0  0.0  ...  0.0  0.0  0.0   \n",
       "3        0.0  0.0  0.0  0.0  0.0  0.0  0.0  0.0  0.0  0.0  ...  0.0  0.0  0.0   \n",
       "\n",
       "cart     865  866  867  868  869  873  880  \n",
       "user_id                                     \n",
       "0        0.0  0.0  0.0  0.0  0.0  0.0  0.0  \n",
       "1        0.0  0.0  0.0  0.0  0.0  0.0  0.0  \n",
       "3        0.0  0.0  0.0  0.0  0.0  0.0  0.0  \n",
       "\n",
       "[3 rows x 812 columns]"
      ]
     },
     "execution_count": 13,
     "metadata": {},
     "output_type": "execute_result"
    }
   ],
   "source": [
    "user_matrix = train_split.pivot_table(index='user_id', columns='cart', \\\n",
    "                                      values='target')\n",
    "user_matrix = user_matrix.fillna(0)\n",
    "user_matrix.head(3)"
   ]
  },
  {
   "cell_type": "code",
   "execution_count": 14,
   "id": "2cbdcaf5",
   "metadata": {
    "execution": {
     "iopub.execute_input": "2022-02-04T00:49:17.668867Z",
     "iopub.status.busy": "2022-02-04T00:49:17.668041Z",
     "iopub.status.idle": "2022-02-04T00:49:17.672763Z",
     "shell.execute_reply": "2022-02-04T00:49:17.673233Z",
     "shell.execute_reply.started": "2022-02-04T00:21:38.836341Z"
    },
    "papermill": {
     "duration": 0.059701,
     "end_time": "2022-02-04T00:49:17.673392",
     "exception": false,
     "start_time": "2022-02-04T00:49:17.613691",
     "status": "completed"
    },
    "tags": []
   },
   "outputs": [],
   "source": [
    "def corr_recommendation(category):\n",
    "  sells = user_matrix[category]\n",
    "  items_like_this = user_matrix.corrwith(sells)\n",
    "  recomm = items_like_this.sort_values(ascending=False).head(3)\n",
    "  list = []\n",
    "  [list.append(i) for i in recomm.index]\n",
    "  print(list)"
   ]
  },
  {
   "cell_type": "code",
   "execution_count": 15,
   "id": "4a29fde3",
   "metadata": {
    "execution": {
     "iopub.execute_input": "2022-02-04T00:49:17.782009Z",
     "iopub.status.busy": "2022-02-04T00:49:17.781184Z",
     "iopub.status.idle": "2022-02-04T00:49:18.023666Z",
     "shell.execute_reply": "2022-02-04T00:49:18.023065Z",
     "shell.execute_reply.started": "2022-02-04T00:21:38.846181Z"
    },
    "papermill": {
     "duration": 0.29824,
     "end_time": "2022-02-04T00:49:18.023802",
     "exception": false,
     "start_time": "2022-02-04T00:49:17.725562",
     "status": "completed"
    },
    "tags": []
   },
   "outputs": [
    {
     "name": "stdout",
     "output_type": "stream",
     "text": [
      "[6, 390, 392]\n"
     ]
    }
   ],
   "source": [
    "corr_recommendation(6)"
   ]
  },
  {
   "cell_type": "markdown",
   "id": "78ce7ceb",
   "metadata": {
    "papermill": {
     "duration": 0.034181,
     "end_time": "2022-02-04T00:49:18.093710",
     "exception": false,
     "start_time": "2022-02-04T00:49:18.059529",
     "status": "completed"
    },
    "tags": []
   },
   "source": [
    "# 3.Выбор ML-модели и обучение"
   ]
  },
  {
   "cell_type": "markdown",
   "id": "b3e7d5a3",
   "metadata": {
    "papermill": {
     "duration": 0.033568,
     "end_time": "2022-02-04T00:49:18.161461",
     "exception": false,
     "start_time": "2022-02-04T00:49:18.127893",
     "status": "completed"
    },
    "tags": []
   },
   "source": [
    "## 3.1 LocalOutlierFactor"
   ]
  },
  {
   "cell_type": "code",
   "execution_count": 16,
   "id": "03af46c9",
   "metadata": {
    "execution": {
     "iopub.execute_input": "2022-02-04T00:49:18.233291Z",
     "iopub.status.busy": "2022-02-04T00:49:18.232839Z",
     "iopub.status.idle": "2022-02-04T00:49:18.309462Z",
     "shell.execute_reply": "2022-02-04T00:49:18.309889Z",
     "shell.execute_reply.started": "2022-02-04T00:21:39.196741Z"
    },
    "papermill": {
     "duration": 0.114154,
     "end_time": "2022-02-04T00:49:18.310025",
     "exception": false,
     "start_time": "2022-02-04T00:49:18.195871",
     "status": "completed"
    },
    "tags": []
   },
   "outputs": [],
   "source": [
    "X_all_train = train[['user_id', 'cart']]\n",
    "y_all_train = y_train = train.target\n",
    "\n",
    "X_train = train_split[['user_id', 'cart']]\n",
    "y_train = train_split.target\n",
    "\n",
    "X_test = test_split[['user_id', 'cart']]\n",
    "y_test= test_split.target\n",
    "\n",
    "X = sample_data[['user_id', 'cart']]"
   ]
  },
  {
   "cell_type": "code",
   "execution_count": 17,
   "id": "d5128722",
   "metadata": {
    "execution": {
     "iopub.execute_input": "2022-02-04T00:49:18.382072Z",
     "iopub.status.busy": "2022-02-04T00:49:18.381507Z",
     "iopub.status.idle": "2022-02-04T00:49:29.763332Z",
     "shell.execute_reply": "2022-02-04T00:49:29.762903Z",
     "shell.execute_reply.started": "2022-02-04T00:21:39.330399Z"
    },
    "papermill": {
     "duration": 11.418331,
     "end_time": "2022-02-04T00:49:29.763437",
     "exception": false,
     "start_time": "2022-02-04T00:49:18.345106",
     "status": "completed"
    },
    "tags": []
   },
   "outputs": [],
   "source": [
    "from sklearn.neighbors import LocalOutlierFactor\n",
    "clf_1 = LocalOutlierFactor(n_neighbors=2, novelty=True)\n",
    "clf_1.fit(X_train)\n",
    "local_output = clf_1.predict(X_test)\n",
    "local_output = np.clip(local_output, 0, 1)"
   ]
  },
  {
   "cell_type": "code",
   "execution_count": 18,
   "id": "dea8d78e",
   "metadata": {
    "execution": {
     "iopub.execute_input": "2022-02-04T00:49:29.836720Z",
     "iopub.status.busy": "2022-02-04T00:49:29.836195Z",
     "iopub.status.idle": "2022-02-04T00:49:33.146267Z",
     "shell.execute_reply": "2022-02-04T00:49:33.145848Z",
     "shell.execute_reply.started": "2022-02-04T00:21:56.705060Z"
    },
    "papermill": {
     "duration": 3.347796,
     "end_time": "2022-02-04T00:49:33.146383",
     "exception": false,
     "start_time": "2022-02-04T00:49:29.798587",
     "status": "completed"
    },
    "tags": []
   },
   "outputs": [],
   "source": [
    "local_output_final = clf_1.predict(X)\n",
    "local_output_final = np.clip(local_output_final, 0, 1)"
   ]
  },
  {
   "cell_type": "markdown",
   "id": "c8fe30ab",
   "metadata": {
    "papermill": {
     "duration": 0.034048,
     "end_time": "2022-02-04T00:49:33.215149",
     "exception": false,
     "start_time": "2022-02-04T00:49:33.181101",
     "status": "completed"
    },
    "tags": []
   },
   "source": [
    "## 3.2 IsolationForest"
   ]
  },
  {
   "cell_type": "code",
   "execution_count": 19,
   "id": "16f3f1a6",
   "metadata": {
    "execution": {
     "iopub.execute_input": "2022-02-04T00:49:33.288193Z",
     "iopub.status.busy": "2022-02-04T00:49:33.287723Z",
     "iopub.status.idle": "2022-02-04T00:49:44.513456Z",
     "shell.execute_reply": "2022-02-04T00:49:44.512900Z",
     "shell.execute_reply.started": "2022-02-04T00:21:59.305352Z"
    },
    "papermill": {
     "duration": 11.26431,
     "end_time": "2022-02-04T00:49:44.513587",
     "exception": false,
     "start_time": "2022-02-04T00:49:33.249277",
     "status": "completed"
    },
    "tags": []
   },
   "outputs": [],
   "source": [
    "from sklearn.ensemble import IsolationForest\n",
    "clf_2 = IsolationForest(random_state=0).fit(X_train)\n",
    "forest_output = clf_2.predict(X_test)\n",
    "forest_output = np.clip(forest_output, 0, 1)"
   ]
  },
  {
   "cell_type": "code",
   "execution_count": 20,
   "id": "5fa87892",
   "metadata": {
    "execution": {
     "iopub.execute_input": "2022-02-04T00:49:44.621768Z",
     "iopub.status.busy": "2022-02-04T00:49:44.620977Z",
     "iopub.status.idle": "2022-02-04T00:49:57.584747Z",
     "shell.execute_reply": "2022-02-04T00:49:57.585227Z",
     "shell.execute_reply.started": "2022-02-04T00:22:16.467860Z"
    },
    "papermill": {
     "duration": 13.019044,
     "end_time": "2022-02-04T00:49:57.585398",
     "exception": false,
     "start_time": "2022-02-04T00:49:44.566354",
     "status": "completed"
    },
    "tags": []
   },
   "outputs": [],
   "source": [
    "forest_output_final = clf_2.predict(X)\n",
    "forest_output_final = np.clip(forest_output_final, 0, 1)"
   ]
  },
  {
   "cell_type": "markdown",
   "id": "fdf7c914",
   "metadata": {
    "papermill": {
     "duration": 0.051732,
     "end_time": "2022-02-04T00:49:57.689562",
     "exception": false,
     "start_time": "2022-02-04T00:49:57.637830",
     "status": "completed"
    },
    "tags": []
   },
   "source": [
    "## 3.3 catboost classifier"
   ]
  },
  {
   "cell_type": "code",
   "execution_count": 21,
   "id": "a3ecbb18",
   "metadata": {
    "execution": {
     "iopub.execute_input": "2022-02-04T00:49:57.800318Z",
     "iopub.status.busy": "2022-02-04T00:49:57.799606Z",
     "iopub.status.idle": "2022-02-04T00:50:04.220975Z",
     "shell.execute_reply": "2022-02-04T00:50:04.221355Z",
     "shell.execute_reply.started": "2022-02-04T00:22:36.163331Z"
    },
    "papermill": {
     "duration": 6.478156,
     "end_time": "2022-02-04T00:50:04.221494",
     "exception": false,
     "start_time": "2022-02-04T00:49:57.743338",
     "status": "completed"
    },
    "tags": []
   },
   "outputs": [
    {
     "name": "stdout",
     "output_type": "stream",
     "text": [
      "Learning rate set to 0.5\n",
      "0:\tlearn: 0.4859002\ttotal: 174ms\tremaining: 8.33s\n",
      "1:\tlearn: 0.4165596\ttotal: 277ms\tremaining: 6.51s\n",
      "2:\tlearn: 0.3881361\ttotal: 382ms\tremaining: 5.85s\n",
      "3:\tlearn: 0.3752078\ttotal: 490ms\tremaining: 5.51s\n",
      "4:\tlearn: 0.3683863\ttotal: 598ms\tremaining: 5.26s\n",
      "5:\tlearn: 0.3649676\ttotal: 694ms\tremaining: 4.97s\n",
      "6:\tlearn: 0.3616370\ttotal: 792ms\tremaining: 4.75s\n",
      "7:\tlearn: 0.3588213\ttotal: 890ms\tremaining: 4.56s\n",
      "8:\tlearn: 0.3573252\ttotal: 986ms\tremaining: 4.38s\n",
      "9:\tlearn: 0.3550867\ttotal: 1.09s\tremaining: 4.24s\n",
      "10:\tlearn: 0.3536688\ttotal: 1.2s\tremaining: 4.14s\n",
      "11:\tlearn: 0.3519539\ttotal: 1.3s\tremaining: 4s\n",
      "12:\tlearn: 0.3502225\ttotal: 1.41s\tremaining: 3.9s\n",
      "13:\tlearn: 0.3494454\ttotal: 1.51s\tremaining: 3.77s\n",
      "14:\tlearn: 0.3487277\ttotal: 1.61s\tremaining: 3.66s\n",
      "15:\tlearn: 0.3484846\ttotal: 1.71s\tremaining: 3.53s\n",
      "16:\tlearn: 0.3475607\ttotal: 1.81s\tremaining: 3.41s\n",
      "17:\tlearn: 0.3469684\ttotal: 1.92s\tremaining: 3.31s\n",
      "18:\tlearn: 0.3462965\ttotal: 2.04s\tremaining: 3.22s\n",
      "19:\tlearn: 0.3454378\ttotal: 2.15s\tremaining: 3.12s\n",
      "20:\tlearn: 0.3452016\ttotal: 2.25s\tremaining: 3s\n",
      "21:\tlearn: 0.3448122\ttotal: 2.35s\tremaining: 2.88s\n",
      "22:\tlearn: 0.3433405\ttotal: 2.45s\tremaining: 2.77s\n",
      "23:\tlearn: 0.3431288\ttotal: 2.55s\tremaining: 2.66s\n",
      "24:\tlearn: 0.3424707\ttotal: 2.66s\tremaining: 2.55s\n",
      "25:\tlearn: 0.3421399\ttotal: 2.75s\tremaining: 2.43s\n",
      "26:\tlearn: 0.3415477\ttotal: 2.85s\tremaining: 2.33s\n",
      "27:\tlearn: 0.3411204\ttotal: 2.96s\tremaining: 2.22s\n",
      "28:\tlearn: 0.3409526\ttotal: 3.07s\tremaining: 2.11s\n",
      "29:\tlearn: 0.3404132\ttotal: 3.17s\tremaining: 2s\n",
      "30:\tlearn: 0.3402619\ttotal: 3.27s\tremaining: 1.9s\n",
      "31:\tlearn: 0.3401965\ttotal: 3.36s\tremaining: 1.78s\n",
      "32:\tlearn: 0.3398731\ttotal: 3.47s\tremaining: 1.68s\n",
      "33:\tlearn: 0.3393927\ttotal: 3.57s\tremaining: 1.57s\n",
      "34:\tlearn: 0.3389835\ttotal: 3.69s\tremaining: 1.48s\n",
      "35:\tlearn: 0.3387242\ttotal: 3.81s\tremaining: 1.38s\n",
      "36:\tlearn: 0.3386489\ttotal: 3.9s\tremaining: 1.26s\n",
      "37:\tlearn: 0.3385173\ttotal: 4s\tremaining: 1.16s\n",
      "38:\tlearn: 0.3383054\ttotal: 4.12s\tremaining: 1.06s\n",
      "39:\tlearn: 0.3381977\ttotal: 4.22s\tremaining: 950ms\n",
      "40:\tlearn: 0.3381111\ttotal: 4.32s\tremaining: 843ms\n",
      "41:\tlearn: 0.3380238\ttotal: 4.42s\tremaining: 737ms\n",
      "42:\tlearn: 0.3379224\ttotal: 4.53s\tremaining: 632ms\n",
      "43:\tlearn: 0.3374743\ttotal: 4.64s\tremaining: 527ms\n",
      "44:\tlearn: 0.3371925\ttotal: 4.75s\tremaining: 422ms\n",
      "45:\tlearn: 0.3366540\ttotal: 4.86s\tremaining: 317ms\n",
      "46:\tlearn: 0.3362450\ttotal: 4.96s\tremaining: 211ms\n",
      "47:\tlearn: 0.3359873\ttotal: 5.08s\tremaining: 106ms\n",
      "48:\tlearn: 0.3357010\ttotal: 5.2s\tremaining: 0us\n"
     ]
    }
   ],
   "source": [
    "import catboost\n",
    "from catboost import CatBoostClassifier\n",
    "\n",
    "model = CatBoostClassifier(iterations=49) \n",
    "model.fit(X_train, y_train) \n",
    "prediction_test = model.predict(X_test) \n",
    "\n",
    "catboost_output_final = model.predict(X)"
   ]
  },
  {
   "cell_type": "markdown",
   "id": "35171234",
   "metadata": {
    "papermill": {
     "duration": 0.040019,
     "end_time": "2022-02-04T00:50:04.302927",
     "exception": false,
     "start_time": "2022-02-04T00:50:04.262908",
     "status": "completed"
    },
    "tags": []
   },
   "source": [
    "## 3.4. Random Forest"
   ]
  },
  {
   "cell_type": "code",
   "execution_count": 22,
   "id": "17c17330",
   "metadata": {
    "execution": {
     "iopub.execute_input": "2022-02-04T00:50:04.387490Z",
     "iopub.status.busy": "2022-02-04T00:50:04.386837Z",
     "iopub.status.idle": "2022-02-04T00:50:04.391432Z",
     "shell.execute_reply": "2022-02-04T00:50:04.390901Z",
     "shell.execute_reply.started": "2022-02-04T00:22:44.531514Z"
    },
    "papermill": {
     "duration": 0.04814,
     "end_time": "2022-02-04T00:50:04.391541",
     "exception": false,
     "start_time": "2022-02-04T00:50:04.343401",
     "status": "completed"
    },
    "tags": []
   },
   "outputs": [],
   "source": [
    "from sklearn.tree import DecisionTreeClassifier \n",
    "from sklearn.metrics import accuracy_score"
   ]
  },
  {
   "cell_type": "markdown",
   "id": "cc3faa56",
   "metadata": {
    "papermill": {
     "duration": 0.041956,
     "end_time": "2022-02-04T00:50:04.474503",
     "exception": false,
     "start_time": "2022-02-04T00:50:04.432547",
     "status": "completed"
    },
    "tags": []
   },
   "source": [
    "### Выбор оптимальной глубины"
   ]
  },
  {
   "cell_type": "code",
   "execution_count": 23,
   "id": "fb118fbd",
   "metadata": {
    "execution": {
     "iopub.execute_input": "2022-02-04T00:50:04.562431Z",
     "iopub.status.busy": "2022-02-04T00:50:04.561948Z",
     "iopub.status.idle": "2022-02-04T01:01:19.926933Z",
     "shell.execute_reply": "2022-02-04T01:01:19.926474Z",
     "shell.execute_reply.started": "2022-02-04T00:22:44.540952Z"
    },
    "papermill": {
     "duration": 675.410158,
     "end_time": "2022-02-04T01:01:19.927052",
     "exception": false,
     "start_time": "2022-02-04T00:50:04.516894",
     "status": "completed"
    },
    "tags": []
   },
   "outputs": [],
   "source": [
    "max_depth_values = range(50,101) \n",
    "scores_df = pd.DataFrame() \n",
    "\n",
    "for depth in max_depth_values:\n",
    "    clf = DecisionTreeClassifier(criterion = 'entropy', max_depth = depth)\n",
    "    clf.fit(X_train, y_train)\n",
    "    train_scores = clf.score(X_train, y_train)\n",
    "    test_scores = clf.score(X_test, y_test)\n",
    "    temp_scores = pd.DataFrame({'max_depth': [depth], 'train_score':[train_scores], \\\n",
    "                           'test_score':[test_scores]}) \n",
    "    scores_df = scores_df.append(temp_scores)"
   ]
  },
  {
   "cell_type": "code",
   "execution_count": 24,
   "id": "c14adc8c",
   "metadata": {
    "execution": {
     "iopub.execute_input": "2022-02-04T01:01:20.015378Z",
     "iopub.status.busy": "2022-02-04T01:01:20.014919Z",
     "iopub.status.idle": "2022-02-04T01:01:20.018377Z",
     "shell.execute_reply": "2022-02-04T01:01:20.017936Z",
     "shell.execute_reply.started": "2022-02-04T00:33:08.696180Z"
    },
    "papermill": {
     "duration": 0.050982,
     "end_time": "2022-02-04T01:01:20.018468",
     "exception": false,
     "start_time": "2022-02-04T01:01:19.967486",
     "status": "completed"
    },
    "tags": []
   },
   "outputs": [
    {
     "data": {
      "text/html": [
       "<div>\n",
       "<style scoped>\n",
       "    .dataframe tbody tr th:only-of-type {\n",
       "        vertical-align: middle;\n",
       "    }\n",
       "\n",
       "    .dataframe tbody tr th {\n",
       "        vertical-align: top;\n",
       "    }\n",
       "\n",
       "    .dataframe thead th {\n",
       "        text-align: right;\n",
       "    }\n",
       "</style>\n",
       "<table border=\"1\" class=\"dataframe\">\n",
       "  <thead>\n",
       "    <tr style=\"text-align: right;\">\n",
       "      <th></th>\n",
       "      <th>max_depth</th>\n",
       "      <th>train_score</th>\n",
       "      <th>test_score</th>\n",
       "    </tr>\n",
       "  </thead>\n",
       "  <tbody>\n",
       "    <tr>\n",
       "      <th>0</th>\n",
       "      <td>96</td>\n",
       "      <td>0.999827</td>\n",
       "      <td>0.854595</td>\n",
       "    </tr>\n",
       "    <tr>\n",
       "      <th>0</th>\n",
       "      <td>100</td>\n",
       "      <td>0.999869</td>\n",
       "      <td>0.854551</td>\n",
       "    </tr>\n",
       "    <tr>\n",
       "      <th>0</th>\n",
       "      <td>95</td>\n",
       "      <td>0.999818</td>\n",
       "      <td>0.854528</td>\n",
       "    </tr>\n",
       "    <tr>\n",
       "      <th>0</th>\n",
       "      <td>94</td>\n",
       "      <td>0.999801</td>\n",
       "      <td>0.854522</td>\n",
       "    </tr>\n",
       "    <tr>\n",
       "      <th>0</th>\n",
       "      <td>92</td>\n",
       "      <td>0.999775</td>\n",
       "      <td>0.854520</td>\n",
       "    </tr>\n",
       "  </tbody>\n",
       "</table>\n",
       "</div>"
      ],
      "text/plain": [
       "   max_depth  train_score  test_score\n",
       "0         96     0.999827    0.854595\n",
       "0        100     0.999869    0.854551\n",
       "0         95     0.999818    0.854528\n",
       "0         94     0.999801    0.854522\n",
       "0         92     0.999775    0.854520"
      ]
     },
     "execution_count": 24,
     "metadata": {},
     "output_type": "execute_result"
    }
   ],
   "source": [
    "scores_df.sort_values(by = 'test_score', ascending=False).head()"
   ]
  },
  {
   "cell_type": "code",
   "execution_count": 25,
   "id": "cfc279c2",
   "metadata": {
    "execution": {
     "iopub.execute_input": "2022-02-04T01:01:20.108818Z",
     "iopub.status.busy": "2022-02-04T01:01:20.108239Z",
     "iopub.status.idle": "2022-02-04T01:01:32.716115Z",
     "shell.execute_reply": "2022-02-04T01:01:32.716482Z",
     "shell.execute_reply.started": "2022-02-04T00:33:08.714165Z"
    },
    "papermill": {
     "duration": 12.658329,
     "end_time": "2022-02-04T01:01:32.716637",
     "exception": false,
     "start_time": "2022-02-04T01:01:20.058308",
     "status": "completed"
    },
    "tags": []
   },
   "outputs": [],
   "source": [
    "clf = DecisionTreeClassifier(criterion = 'entropy', max_depth = 96)\n",
    "clf.fit(X_train, y_train)\n",
    "\n",
    "Decision_score = clf.predict(X_test)"
   ]
  },
  {
   "cell_type": "code",
   "execution_count": 26,
   "id": "010c5767",
   "metadata": {
    "execution": {
     "iopub.execute_input": "2022-02-04T01:01:32.800160Z",
     "iopub.status.busy": "2022-02-04T01:01:32.799702Z",
     "iopub.status.idle": "2022-02-04T01:01:48.388743Z",
     "shell.execute_reply": "2022-02-04T01:01:48.389308Z",
     "shell.execute_reply.started": "2022-02-04T00:33:19.195414Z"
    },
    "papermill": {
     "duration": 15.632015,
     "end_time": "2022-02-04T01:01:48.389484",
     "exception": false,
     "start_time": "2022-02-04T01:01:32.757469",
     "status": "completed"
    },
    "tags": []
   },
   "outputs": [],
   "source": [
    "clf_all_train = DecisionTreeClassifier(criterion = 'entropy', max_depth = 96)\n",
    "clf_all_train.fit(X_all_train, y_all_train)\n",
    "\n",
    "Decision_score_final = clf_all_train.predict(X)"
   ]
  },
  {
   "cell_type": "markdown",
   "id": "4e61877d",
   "metadata": {
    "papermill": {
     "duration": 0.060883,
     "end_time": "2022-02-04T01:01:48.512580",
     "exception": false,
     "start_time": "2022-02-04T01:01:48.451697",
     "status": "completed"
    },
    "tags": []
   },
   "source": [
    "### Подготовлю DataFrame с результатом работы моделей"
   ]
  },
  {
   "cell_type": "code",
   "execution_count": 27,
   "id": "24e14832",
   "metadata": {
    "execution": {
     "iopub.execute_input": "2022-02-04T01:01:48.642763Z",
     "iopub.status.busy": "2022-02-04T01:01:48.638740Z",
     "iopub.status.idle": "2022-02-04T01:01:49.487092Z",
     "shell.execute_reply": "2022-02-04T01:01:49.487590Z",
     "shell.execute_reply.started": "2022-02-04T00:33:32.614872Z"
    },
    "papermill": {
     "duration": 0.913493,
     "end_time": "2022-02-04T01:01:49.487774",
     "exception": false,
     "start_time": "2022-02-04T01:01:48.574281",
     "status": "completed"
    },
    "tags": []
   },
   "outputs": [],
   "source": [
    "sample_data.loc[:, ('user_id', 'cart')] = sample_data[['user_id', 'cart']] \\\n",
    "                                                            .astype('str')\n",
    "\n",
    "my_submit = pd.DataFrame({'id' : sample_data.user_id, 'cart' : sample_data.cart})\n",
    "my_submit['id_and_cart'] = my_submit['id'].str.cat(my_submit['cart'], sep =\";\")"
   ]
  },
  {
   "cell_type": "code",
   "execution_count": 28,
   "id": "dd041aaf",
   "metadata": {
    "execution": {
     "iopub.execute_input": "2022-02-04T01:01:49.624425Z",
     "iopub.status.busy": "2022-02-04T01:01:49.622720Z",
     "iopub.status.idle": "2022-02-04T01:01:50.463809Z",
     "shell.execute_reply": "2022-02-04T01:01:50.463154Z",
     "shell.execute_reply.started": "2022-02-04T00:33:34.261660Z"
    },
    "papermill": {
     "duration": 0.914072,
     "end_time": "2022-02-04T01:01:50.463938",
     "exception": false,
     "start_time": "2022-02-04T01:01:49.549866",
     "status": "completed"
    },
    "tags": []
   },
   "outputs": [
    {
     "data": {
      "text/html": [
       "<div>\n",
       "<style scoped>\n",
       "    .dataframe tbody tr th:only-of-type {\n",
       "        vertical-align: middle;\n",
       "    }\n",
       "\n",
       "    .dataframe tbody tr th {\n",
       "        vertical-align: top;\n",
       "    }\n",
       "\n",
       "    .dataframe thead th {\n",
       "        text-align: right;\n",
       "    }\n",
       "</style>\n",
       "<table border=\"1\" class=\"dataframe\">\n",
       "  <thead>\n",
       "    <tr style=\"text-align: right;\">\n",
       "      <th></th>\n",
       "      <th>id</th>\n",
       "      <th>cart</th>\n",
       "      <th>id_and_cart</th>\n",
       "      <th>Local_score</th>\n",
       "      <th>Forest_score</th>\n",
       "      <th>catboost_score</th>\n",
       "      <th>Decision_score</th>\n",
       "      <th>Dec_score_optim</th>\n",
       "    </tr>\n",
       "  </thead>\n",
       "  <tbody>\n",
       "    <tr>\n",
       "      <th>0</th>\n",
       "      <td>0</td>\n",
       "      <td>133</td>\n",
       "      <td>0;133</td>\n",
       "      <td>0</td>\n",
       "      <td>0</td>\n",
       "      <td>1</td>\n",
       "      <td>0</td>\n",
       "      <td>0</td>\n",
       "    </tr>\n",
       "    <tr>\n",
       "      <th>1</th>\n",
       "      <td>0</td>\n",
       "      <td>5</td>\n",
       "      <td>0;5</td>\n",
       "      <td>1</td>\n",
       "      <td>0</td>\n",
       "      <td>1</td>\n",
       "      <td>0</td>\n",
       "      <td>0</td>\n",
       "    </tr>\n",
       "    <tr>\n",
       "      <th>2</th>\n",
       "      <td>0</td>\n",
       "      <td>10</td>\n",
       "      <td>0;10</td>\n",
       "      <td>0</td>\n",
       "      <td>0</td>\n",
       "      <td>1</td>\n",
       "      <td>0</td>\n",
       "      <td>0</td>\n",
       "    </tr>\n",
       "    <tr>\n",
       "      <th>3</th>\n",
       "      <td>0</td>\n",
       "      <td>396</td>\n",
       "      <td>0;396</td>\n",
       "      <td>0</td>\n",
       "      <td>0</td>\n",
       "      <td>1</td>\n",
       "      <td>0</td>\n",
       "      <td>0</td>\n",
       "    </tr>\n",
       "    <tr>\n",
       "      <th>4</th>\n",
       "      <td>0</td>\n",
       "      <td>14</td>\n",
       "      <td>0;14</td>\n",
       "      <td>0</td>\n",
       "      <td>0</td>\n",
       "      <td>1</td>\n",
       "      <td>1</td>\n",
       "      <td>1</td>\n",
       "    </tr>\n",
       "  </tbody>\n",
       "</table>\n",
       "</div>"
      ],
      "text/plain": [
       "  id cart id_and_cart  Local_score  Forest_score  catboost_score  \\\n",
       "0  0  133       0;133            0             0               1   \n",
       "1  0    5         0;5            1             0               1   \n",
       "2  0   10        0;10            0             0               1   \n",
       "3  0  396       0;396            0             0               1   \n",
       "4  0   14        0;14            0             0               1   \n",
       "\n",
       "   Decision_score  Dec_score_optim  \n",
       "0               0                0  \n",
       "1               0                0  \n",
       "2               0                0  \n",
       "3               0                0  \n",
       "4               1                1  "
      ]
     },
     "execution_count": 28,
     "metadata": {},
     "output_type": "execute_result"
    }
   ],
   "source": [
    "my_submit['Local_score'] = local_output_final.tolist()\n",
    "my_submit['Forest_score'] = forest_output_final.tolist()\n",
    "my_submit['catboost_score'] = catboost_output_final.tolist()\n",
    "my_submit['Decision_score'] = Decision_score_final.tolist()\n",
    "my_submit['Dec_score_optim'] = Decision_score_final.tolist()\n",
    "my_submit.head()"
   ]
  },
  {
   "cell_type": "markdown",
   "id": "16ee290e",
   "metadata": {
    "papermill": {
     "duration": 0.061552,
     "end_time": "2022-02-04T01:01:50.587601",
     "exception": false,
     "start_time": "2022-02-04T01:01:50.526049",
     "status": "completed"
    },
    "tags": []
   },
   "source": [
    "### Оценка работы моделей"
   ]
  },
  {
   "cell_type": "code",
   "execution_count": 29,
   "id": "33fec355",
   "metadata": {
    "execution": {
     "iopub.execute_input": "2022-02-04T01:01:50.716739Z",
     "iopub.status.busy": "2022-02-04T01:01:50.715865Z",
     "iopub.status.idle": "2022-02-04T01:01:51.213111Z",
     "shell.execute_reply": "2022-02-04T01:01:51.212585Z",
     "shell.execute_reply.started": "2022-02-04T00:33:35.929614Z"
    },
    "papermill": {
     "duration": 0.56418,
     "end_time": "2022-02-04T01:01:51.213230",
     "exception": false,
     "start_time": "2022-02-04T01:01:50.649050",
     "status": "completed"
    },
    "tags": []
   },
   "outputs": [],
   "source": [
    "pre_train = pd.DataFrame({'user_id' : test_split.user_id,\\\n",
    "                             'cart' : test_split.cart,   \\\n",
    "                           'target' : test_split.target})\n",
    "\n",
    "pre_train['Local_score'] = local_output.tolist()\n",
    "pre_train['Forest_score'] = forest_output.tolist()\n",
    "pre_train['catboost_score'] = prediction_test.tolist()\n",
    "pre_train['Decision_score'] = Decision_score.tolist()\n",
    "pre_train['Dec_score_optim'] = Decision_score.tolist()"
   ]
  },
  {
   "cell_type": "code",
   "execution_count": 30,
   "id": "9f310e05",
   "metadata": {
    "execution": {
     "iopub.execute_input": "2022-02-04T01:01:51.301001Z",
     "iopub.status.busy": "2022-02-04T01:01:51.300507Z",
     "iopub.status.idle": "2022-02-04T01:01:51.599030Z",
     "shell.execute_reply": "2022-02-04T01:01:51.598506Z",
     "shell.execute_reply.started": "2022-02-04T00:33:36.950102Z"
    },
    "papermill": {
     "duration": 0.344371,
     "end_time": "2022-02-04T01:01:51.599138",
     "exception": false,
     "start_time": "2022-02-04T01:01:51.254767",
     "status": "completed"
    },
    "tags": []
   },
   "outputs": [
    {
     "name": "stdout",
     "output_type": "stream",
     "text": [
      " Local AUC       = 0.6869551627278596\n",
      " Isol_Forest AUC = 0.6232404307322352\n",
      " catboost AUC    = 0.6055291217598544\n",
      " Decision AUC    = 0.7332180816683017\n"
     ]
    }
   ],
   "source": [
    "from sklearn.metrics import roc_auc_score\n",
    "\n",
    "print(f\" Local AUC       = {roc_auc_score(y_test, pre_train.Local_score)}\")\n",
    "print(f\" Isol_Forest AUC = {roc_auc_score(y_test, pre_train.Forest_score)}\")\n",
    "print(f\" catboost AUC    = {roc_auc_score(y_test, pre_train.catboost_score)}\")\n",
    "print(f\" Decision AUC    = {roc_auc_score(y_test, pre_train.Decision_score)}\")"
   ]
  },
  {
   "cell_type": "markdown",
   "id": "5fea0041",
   "metadata": {
    "papermill": {
     "duration": 0.041701,
     "end_time": "2022-02-04T01:01:51.682487",
     "exception": false,
     "start_time": "2022-02-04T01:01:51.640786",
     "status": "completed"
    },
    "tags": []
   },
   "source": [
    "### Поправка на популярность товара"
   ]
  },
  {
   "cell_type": "code",
   "execution_count": 31,
   "id": "e51b08a5",
   "metadata": {
    "execution": {
     "iopub.execute_input": "2022-02-04T01:01:51.769969Z",
     "iopub.status.busy": "2022-02-04T01:01:51.769234Z",
     "iopub.status.idle": "2022-02-04T01:07:30.500177Z",
     "shell.execute_reply": "2022-02-04T01:07:30.500709Z",
     "shell.execute_reply.started": "2022-02-04T00:33:37.354969Z"
    },
    "papermill": {
     "duration": 338.776847,
     "end_time": "2022-02-04T01:07:30.500869",
     "exception": false,
     "start_time": "2022-02-04T01:01:51.724022",
     "status": "completed"
    },
    "tags": []
   },
   "outputs": [
    {
     "data": {
      "text/html": [
       "<div>\n",
       "<style scoped>\n",
       "    .dataframe tbody tr th:only-of-type {\n",
       "        vertical-align: middle;\n",
       "    }\n",
       "\n",
       "    .dataframe tbody tr th {\n",
       "        vertical-align: top;\n",
       "    }\n",
       "\n",
       "    .dataframe thead th {\n",
       "        text-align: right;\n",
       "    }\n",
       "</style>\n",
       "<table border=\"1\" class=\"dataframe\">\n",
       "  <thead>\n",
       "    <tr style=\"text-align: right;\">\n",
       "      <th></th>\n",
       "      <th>user_id</th>\n",
       "      <th>cart</th>\n",
       "      <th>target</th>\n",
       "      <th>Local_score</th>\n",
       "      <th>Forest_score</th>\n",
       "      <th>catboost_score</th>\n",
       "      <th>Decision_score</th>\n",
       "      <th>Dec_score_optim</th>\n",
       "    </tr>\n",
       "  </thead>\n",
       "  <tbody>\n",
       "    <tr>\n",
       "      <th>2576008</th>\n",
       "      <td>18161</td>\n",
       "      <td>23</td>\n",
       "      <td>0</td>\n",
       "      <td>1</td>\n",
       "      <td>0</td>\n",
       "      <td>1</td>\n",
       "      <td>1</td>\n",
       "      <td>1</td>\n",
       "    </tr>\n",
       "    <tr>\n",
       "      <th>2576009</th>\n",
       "      <td>18161</td>\n",
       "      <td>17</td>\n",
       "      <td>1</td>\n",
       "      <td>1</td>\n",
       "      <td>0</td>\n",
       "      <td>1</td>\n",
       "      <td>1</td>\n",
       "      <td>1</td>\n",
       "    </tr>\n",
       "    <tr>\n",
       "      <th>2576010</th>\n",
       "      <td>18161</td>\n",
       "      <td>14</td>\n",
       "      <td>1</td>\n",
       "      <td>1</td>\n",
       "      <td>0</td>\n",
       "      <td>1</td>\n",
       "      <td>1</td>\n",
       "      <td>1</td>\n",
       "    </tr>\n",
       "    <tr>\n",
       "      <th>2576011</th>\n",
       "      <td>18161</td>\n",
       "      <td>5</td>\n",
       "      <td>0</td>\n",
       "      <td>0</td>\n",
       "      <td>0</td>\n",
       "      <td>1</td>\n",
       "      <td>0</td>\n",
       "      <td>0</td>\n",
       "    </tr>\n",
       "    <tr>\n",
       "      <th>2576012</th>\n",
       "      <td>18161</td>\n",
       "      <td>445</td>\n",
       "      <td>1</td>\n",
       "      <td>0</td>\n",
       "      <td>0</td>\n",
       "      <td>0</td>\n",
       "      <td>1</td>\n",
       "      <td>1</td>\n",
       "    </tr>\n",
       "  </tbody>\n",
       "</table>\n",
       "</div>"
      ],
      "text/plain": [
       "         user_id  cart  target  Local_score  Forest_score  catboost_score  \\\n",
       "2576008    18161    23       0            1             0               1   \n",
       "2576009    18161    17       1            1             0               1   \n",
       "2576010    18161    14       1            1             0               1   \n",
       "2576011    18161     5       0            0             0               1   \n",
       "2576012    18161   445       1            0             0               0   \n",
       "\n",
       "         Decision_score  Dec_score_optim  \n",
       "2576008               1                1  \n",
       "2576009               1                1  \n",
       "2576010               1                1  \n",
       "2576011               0                0  \n",
       "2576012               1                1  "
      ]
     },
     "execution_count": 31,
     "metadata": {},
     "output_type": "execute_result"
    }
   ],
   "source": [
    "optimization(pre_train, 'Dec_score_optim').head()"
   ]
  },
  {
   "cell_type": "code",
   "execution_count": 32,
   "id": "5d4f1ac7",
   "metadata": {
    "execution": {
     "iopub.execute_input": "2022-02-04T01:07:30.633845Z",
     "iopub.status.busy": "2022-02-04T01:07:30.633166Z",
     "iopub.status.idle": "2022-02-04T01:07:30.714553Z",
     "shell.execute_reply": "2022-02-04T01:07:30.714161Z",
     "shell.execute_reply.started": "2022-02-04T00:44:04.126515Z"
    },
    "papermill": {
     "duration": 0.149361,
     "end_time": "2022-02-04T01:07:30.714683",
     "exception": false,
     "start_time": "2022-02-04T01:07:30.565322",
     "status": "completed"
    },
    "tags": []
   },
   "outputs": [
    {
     "name": "stdout",
     "output_type": "stream",
     "text": [
      " Decision_with_optim AUC = 0.7183783881099465\n"
     ]
    }
   ],
   "source": [
    "print(f\" Decision_with_optim AUC = {roc_auc_score(y_test, pre_train.Dec_score_optim)}\")"
   ]
  },
  {
   "cell_type": "markdown",
   "id": "4ca9dfd3",
   "metadata": {
    "papermill": {
     "duration": 0.041554,
     "end_time": "2022-02-04T01:07:30.799049",
     "exception": false,
     "start_time": "2022-02-04T01:07:30.757495",
     "status": "completed"
    },
    "tags": []
   },
   "source": [
    "### Оптимизация финального варианта сабмита"
   ]
  },
  {
   "cell_type": "code",
   "execution_count": 33,
   "id": "3cb8e046",
   "metadata": {
    "execution": {
     "iopub.execute_input": "2022-02-04T01:07:30.888923Z",
     "iopub.status.busy": "2022-02-04T01:07:30.883554Z",
     "iopub.status.idle": "2022-02-04T01:07:39.754478Z",
     "shell.execute_reply": "2022-02-04T01:07:39.753967Z",
     "shell.execute_reply.started": "2022-02-04T00:44:04.230220Z"
    },
    "papermill": {
     "duration": 8.913849,
     "end_time": "2022-02-04T01:07:39.754606",
     "exception": false,
     "start_time": "2022-02-04T01:07:30.840757",
     "status": "completed"
    },
    "tags": []
   },
   "outputs": [
    {
     "data": {
      "text/html": [
       "<div>\n",
       "<style scoped>\n",
       "    .dataframe tbody tr th:only-of-type {\n",
       "        vertical-align: middle;\n",
       "    }\n",
       "\n",
       "    .dataframe tbody tr th {\n",
       "        vertical-align: top;\n",
       "    }\n",
       "\n",
       "    .dataframe thead th {\n",
       "        text-align: right;\n",
       "    }\n",
       "</style>\n",
       "<table border=\"1\" class=\"dataframe\">\n",
       "  <thead>\n",
       "    <tr style=\"text-align: right;\">\n",
       "      <th></th>\n",
       "      <th>id</th>\n",
       "      <th>cart</th>\n",
       "      <th>id_and_cart</th>\n",
       "      <th>Local_score</th>\n",
       "      <th>Forest_score</th>\n",
       "      <th>catboost_score</th>\n",
       "      <th>Decision_score</th>\n",
       "      <th>Dec_score_optim</th>\n",
       "    </tr>\n",
       "  </thead>\n",
       "  <tbody>\n",
       "    <tr>\n",
       "      <th>0</th>\n",
       "      <td>0</td>\n",
       "      <td>133</td>\n",
       "      <td>0;133</td>\n",
       "      <td>0</td>\n",
       "      <td>0</td>\n",
       "      <td>1</td>\n",
       "      <td>0</td>\n",
       "      <td>0</td>\n",
       "    </tr>\n",
       "    <tr>\n",
       "      <th>1</th>\n",
       "      <td>0</td>\n",
       "      <td>5</td>\n",
       "      <td>0;5</td>\n",
       "      <td>1</td>\n",
       "      <td>0</td>\n",
       "      <td>1</td>\n",
       "      <td>0</td>\n",
       "      <td>0</td>\n",
       "    </tr>\n",
       "    <tr>\n",
       "      <th>2</th>\n",
       "      <td>0</td>\n",
       "      <td>10</td>\n",
       "      <td>0;10</td>\n",
       "      <td>0</td>\n",
       "      <td>0</td>\n",
       "      <td>1</td>\n",
       "      <td>0</td>\n",
       "      <td>0</td>\n",
       "    </tr>\n",
       "    <tr>\n",
       "      <th>3</th>\n",
       "      <td>0</td>\n",
       "      <td>396</td>\n",
       "      <td>0;396</td>\n",
       "      <td>0</td>\n",
       "      <td>0</td>\n",
       "      <td>1</td>\n",
       "      <td>0</td>\n",
       "      <td>0</td>\n",
       "    </tr>\n",
       "    <tr>\n",
       "      <th>4</th>\n",
       "      <td>0</td>\n",
       "      <td>14</td>\n",
       "      <td>0;14</td>\n",
       "      <td>0</td>\n",
       "      <td>0</td>\n",
       "      <td>1</td>\n",
       "      <td>1</td>\n",
       "      <td>1</td>\n",
       "    </tr>\n",
       "  </tbody>\n",
       "</table>\n",
       "</div>"
      ],
      "text/plain": [
       "  id cart id_and_cart  Local_score  Forest_score  catboost_score  \\\n",
       "0  0  133       0;133            0             0               1   \n",
       "1  0    5         0;5            1             0               1   \n",
       "2  0   10        0;10            0             0               1   \n",
       "3  0  396       0;396            0             0               1   \n",
       "4  0   14        0;14            0             0               1   \n",
       "\n",
       "   Decision_score  Dec_score_optim  \n",
       "0               0                0  \n",
       "1               0                0  \n",
       "2               0                0  \n",
       "3               0                0  \n",
       "4               1                1  "
      ]
     },
     "execution_count": 33,
     "metadata": {},
     "output_type": "execute_result"
    }
   ],
   "source": [
    "optimization(my_submit,'Dec_score_optim').head()"
   ]
  },
  {
   "cell_type": "markdown",
   "id": "9acb2bf6",
   "metadata": {
    "papermill": {
     "duration": 0.058157,
     "end_time": "2022-02-04T01:07:39.877513",
     "exception": false,
     "start_time": "2022-02-04T01:07:39.819356",
     "status": "completed"
    },
    "tags": []
   },
   "source": [
    "# 4.Из DataFrame в csv"
   ]
  },
  {
   "cell_type": "markdown",
   "id": "19357b7a",
   "metadata": {
    "papermill": {
     "duration": 0.042532,
     "end_time": "2022-02-04T01:07:39.962793",
     "exception": false,
     "start_time": "2022-02-04T01:07:39.920261",
     "status": "completed"
    },
    "tags": []
   },
   "source": [
    "### Результат работы Decision tree"
   ]
  },
  {
   "cell_type": "code",
   "execution_count": 34,
   "id": "c1ee1fb6",
   "metadata": {
    "execution": {
     "iopub.execute_input": "2022-02-04T01:07:40.053166Z",
     "iopub.status.busy": "2022-02-04T01:07:40.052511Z",
     "iopub.status.idle": "2022-02-04T01:07:40.797949Z",
     "shell.execute_reply": "2022-02-04T01:07:40.797423Z",
     "shell.execute_reply.started": "2022-02-04T00:44:17.221506Z"
    },
    "papermill": {
     "duration": 0.792687,
     "end_time": "2022-02-04T01:07:40.798059",
     "exception": false,
     "start_time": "2022-02-04T01:07:40.005372",
     "status": "completed"
    },
    "tags": []
   },
   "outputs": [],
   "source": [
    "submission_with_Decision = pd.DataFrame({'id': my_submit.id_and_cart, 'target': my_submit['Decision_score']})\n",
    "submission_with_Decision.to_csv('/kaggle/working/submission_with_Decision.csv', index=False)"
   ]
  },
  {
   "cell_type": "markdown",
   "id": "4cc2ad91",
   "metadata": {
    "papermill": {
     "duration": 0.041056,
     "end_time": "2022-02-04T01:07:40.881130",
     "exception": false,
     "start_time": "2022-02-04T01:07:40.840074",
     "status": "completed"
    },
    "tags": []
   },
   "source": [
    "### Результат работы Decision tree с поправкой на популярность товаров"
   ]
  },
  {
   "cell_type": "code",
   "execution_count": 35,
   "id": "02e89cbc",
   "metadata": {
    "execution": {
     "iopub.execute_input": "2022-02-04T01:07:40.969064Z",
     "iopub.status.busy": "2022-02-04T01:07:40.968387Z",
     "iopub.status.idle": "2022-02-04T01:07:42.250586Z",
     "shell.execute_reply": "2022-02-04T01:07:42.250173Z",
     "shell.execute_reply.started": "2022-02-04T00:45:54.253181Z"
    },
    "papermill": {
     "duration": 1.32844,
     "end_time": "2022-02-04T01:07:42.250731",
     "exception": false,
     "start_time": "2022-02-04T01:07:40.922291",
     "status": "completed"
    },
    "tags": []
   },
   "outputs": [],
   "source": [
    "submission_Decision_optim = pd.DataFrame({'id': my_submit.id_and_cart, 'target': my_submit['Dec_score_optim']})\n",
    "submission_Decision_optim.to_csv('/kaggle/working/submission_Decision_optim.csv', index=False)"
   ]
  }
 ],
 "metadata": {
  "kernelspec": {
   "display_name": "Python 3",
   "language": "python",
   "name": "python3"
  },
  "language_info": {
   "codemirror_mode": {
    "name": "ipython",
    "version": 3
   },
   "file_extension": ".py",
   "mimetype": "text/x-python",
   "name": "python",
   "nbconvert_exporter": "python",
   "pygments_lexer": "ipython3",
   "version": "3.7.12"
  },
  "papermill": {
   "default_parameters": {},
   "duration": 1127.845891,
   "end_time": "2022-02-04T01:07:43.305579",
   "environment_variables": {},
   "exception": null,
   "input_path": "__notebook__.ipynb",
   "output_path": "__notebook__.ipynb",
   "parameters": {},
   "start_time": "2022-02-04T00:48:55.459688",
   "version": "2.3.3"
  }
 },
 "nbformat": 4,
 "nbformat_minor": 5
}
